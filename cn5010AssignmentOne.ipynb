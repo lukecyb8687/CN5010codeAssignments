{
  "nbformat": 4,
  "nbformat_minor": 0,
  "metadata": {
    "colab": {
      "name": "cn5010AssignmentOne.ipynb",
      "provenance": [],
      "collapsed_sections": []
    },
    "kernelspec": {
      "name": "python3",
      "display_name": "Python 3"
    }
  },
  "cells": [
    {
      "cell_type": "markdown",
      "metadata": {
        "id": "I4h8vcWSCM0x",
        "colab_type": "text"
      },
      "source": [
        "# Import Dependencies"
      ]
    },
    {
      "cell_type": "code",
      "metadata": {
        "id": "9EvcIWCoUE2u",
        "colab_type": "code",
        "colab": {}
      },
      "source": [
        "import matplotlib.pyplot as plt\n",
        "import numpy as np\n",
        "import pandas as pd\n",
        "import math"
      ],
      "execution_count": null,
      "outputs": []
    },
    {
      "cell_type": "markdown",
      "metadata": {
        "id": "7PUyTKmjSRcj",
        "colab_type": "text"
      },
      "source": [
        "# Question 1: Reynold Number\n"
      ]
    },
    {
      "cell_type": "code",
      "metadata": {
        "id": "3BBLdiMNVqvJ",
        "colab_type": "code",
        "colab": {
          "base_uri": "https://localhost:8080/",
          "height": 70
        },
        "outputId": "0a189dce-5248-4d48-8365-8f5014145a29"
      },
      "source": [
        "def reynoldNumber(fluidDensity, flowVelocity, pipeDiameter, fluidViscosity):\n",
        "  \"\"\"\n",
        "  Inputs:\n",
        "    - fluidDensity, density of fluid flowing through pipe, [kg/m3]\n",
        "    - flowVelocity, velocity of fluid flowing through pipe, [m/s]\n",
        "    - pipeDiameter, diameter of pipe cross-section [m]\n",
        "    - fluidViscosity, viscosity of fluid flowing through pipe, [Pa.s]\n",
        "  Outputs:\n",
        "    - reynoldNumber, turbulent/laminar flow indicator, [-]\n",
        "  \"\"\"\n",
        "  reynoldNo = (fluidDensity*flowVelocity*pipeDiameter)/fluidViscosity\n",
        "  if reynoldNo < 2100:\n",
        "    return print('The reynold number is', reynoldNo, ', thus the flow is laminar')\n",
        "  else:\n",
        "    return print('The reynold number is', reynoldNo, ', thus the flow is turbulent')\n",
        "\n",
        "flowVelocity = float(input(\"Enter flow velocity [m/s]:\"))\n",
        "pipeDiameter = float(input(\"Enter pipe diameter [m]:\"))\n",
        "reynoldNumber(1000,flowVelocity,pipeDiameter,0.001)"
      ],
      "execution_count": null,
      "outputs": [
        {
          "output_type": "stream",
          "text": [
            "Enter flow velocity [m/s]:0.01\n",
            "Enter pipe diameter [m]:0.25\n",
            "The reynold number is 2500.0 , thus the flow is turbulent\n"
          ],
          "name": "stdout"
        }
      ]
    },
    {
      "cell_type": "markdown",
      "metadata": {
        "id": "6a4n7YZaSVw3",
        "colab_type": "text"
      },
      "source": [
        "# Question 2: Reactor Design"
      ]
    },
    {
      "cell_type": "code",
      "metadata": {
        "id": "RfX9-Dg9Pc1n",
        "colab_type": "code",
        "colab": {}
      },
      "source": [
        "def sizeOfMFR():\n",
        "  \"\"\"\n",
        "  Input:\n",
        "    - molarFlowRate, molar flow rate of reactant A, [mol/min]\n",
        "    - conversion, conversion of reactant A, [-]\n",
        "    - concentration, inlet concentration of reactant A, [mol/L]\n",
        "  Output:\n",
        "    - volume, volume of Mixed Flow Reactor, [m3]\n",
        "\n",
        "  \"\"\"\n",
        "\n",
        "  # Error handling\n",
        "  try: \n",
        "    molarFlowRate = float(input('Enter molar flow rate value [mol/min]:'))\n",
        "  except:\n",
        "    print(\"Molar Flow Rate must be a numerical value\")\n",
        "  try:\n",
        "    conversion = float(input('Enter conversion value [-]:'))\n",
        "  except:\n",
        "    print(\"Conversion must be a numerical value\")\n",
        "  try:\n",
        "    concentration = float(input('Enter initial concentration value [mol/L]'))\n",
        "  except:\n",
        "    print(\"Concentration must be a numerical value\")\n",
        "\n",
        "  k = 1.0 # rate constant, [min^(-1)]\n",
        "\n",
        "  # Check of satisfactory conditions and boundaries\n",
        "  if molarFlowRate <= 0:\n",
        "    print('Molar flow rate must be greater than 0')\n",
        "  if conversion <= 0 or conversion >= 1:\n",
        "    print('Conversion must be greater than 0 and less than 1')\n",
        "  if concentration <= 0:\n",
        "    print('Concentration must be greater than 0')\n",
        "  else: \n",
        "    volume = (molarFlowRate*conversion)/(k*concentration*(1.0-conversion))\n",
        "    return  print(\"\\nThe reactor volume is {:0.2f} L.\\n\".format(volume))"
      ],
      "execution_count": null,
      "outputs": []
    },
    {
      "cell_type": "markdown",
      "metadata": {
        "id": "qVUU_rA3axfw",
        "colab_type": "text"
      },
      "source": [
        "Inputs with errors"
      ]
    },
    {
      "cell_type": "code",
      "metadata": {
        "id": "W3Q8wa3sS9Q8",
        "colab_type": "code",
        "colab": {}
      },
      "source": [
        "sizeOfMFR()"
      ],
      "execution_count": null,
      "outputs": []
    },
    {
      "cell_type": "markdown",
      "metadata": {
        "id": "h7itYC2kbCol",
        "colab_type": "text"
      },
      "source": [
        "Inputs without errors"
      ]
    },
    {
      "cell_type": "code",
      "metadata": {
        "id": "JqdXGi2OS6R_",
        "colab_type": "code",
        "colab": {
          "base_uri": "https://localhost:8080/",
          "height": 124
        },
        "outputId": "50acbd2e-5bff-4e2e-cfc7-60ca661a3a4c"
      },
      "source": [
        "sizeOfMFR()"
      ],
      "execution_count": null,
      "outputs": [
        {
          "output_type": "stream",
          "text": [
            "Enter molar flow rate value [mol/min]:100\n",
            "Enter conversion value [-]:0.9\n",
            "Enter initial concentration value [mol/L]1\n",
            "\n",
            "The reactor volume is 900.00 L.\n",
            "\n"
          ],
          "name": "stdout"
        }
      ]
    },
    {
      "cell_type": "markdown",
      "metadata": {
        "id": "-x-oRhXmSZrW",
        "colab_type": "text"
      },
      "source": [
        "# Question 3: Sum to Infinity"
      ]
    },
    {
      "cell_type": "code",
      "metadata": {
        "id": "Whj3rCD8aIKD",
        "colab_type": "code",
        "colab": {
          "base_uri": "https://localhost:8080/",
          "height": 124
        },
        "outputId": "529ef5d1-6c6c-4b6a-f40f-d14f1762ad70"
      },
      "source": [
        "def sumGP(r,a,n):\n",
        "  \"\"\"\n",
        "  Inputs:\n",
        "    - a: int, first term, [-]\n",
        "    - r: float, common ratio less than 1, [-]\n",
        "  Output:\n",
        "    - sum: float, computed sum to infinity, [-]\n",
        "  \"\"\"\n",
        "  sum = a*((1-r**n)/(1-r))\n",
        "  return sum\n",
        "\n",
        "def sumToInfinity(a,r):\n",
        "  \"\"\"\n",
        "  Inputs:\n",
        "    - a: int, first term, [-]\n",
        "    - r: float, common ratio less than 1, [-]\n",
        "  Output:\n",
        "    - sInfinity: float, exact sum to infinity, [-]\n",
        "    - compSum: float, computed sum to infinity, [-]\n",
        "    - n: int, number of terms summed, [-]\n",
        "  \"\"\"\n",
        "  if r >= 1:\n",
        "    print('The value of r must be less than 1')\n",
        "  else:\n",
        "    sInfinity = a/(1-r)\n",
        "    n = 1\n",
        "    compSum = sumGP(r,a,n)\n",
        "    while (sInfinity-compSum)/(sInfinity) >= 0.01:\n",
        "      n = n+1\n",
        "      compSum = sumGP(r,a,n)\n",
        "  return print('The exact sum to infinity is',sInfinity),\n",
        "         print('The computed sum to infinity is',compSum),\n",
        "         print('The number of terms summed is',n)\n",
        "      \n",
        "a = float(input(\"Enter first term, a:\"))\n",
        "r = float(input(\"Enter common ratio, r:\"))\n",
        "sumToInfinity(a,r)"
      ],
      "execution_count": null,
      "outputs": [
        {
          "output_type": "stream",
          "text": [
            "Enter first term, a:100\n",
            "Enter common ratio, r:0.999\n",
            "The exact sum to infinity is 99999.99999999991\n",
            "The computed sum to infinity is 99000.13284067274\n",
            "The number of terms summed is 4603\n"
          ],
          "name": "stdout"
        },
        {
          "output_type": "execute_result",
          "data": {
            "text/plain": [
              "(None, None, None)"
            ]
          },
          "metadata": {
            "tags": []
          },
          "execution_count": 57
        }
      ]
    },
    {
      "cell_type": "markdown",
      "metadata": {
        "id": "F9SiYz8fSbSG",
        "colab_type": "text"
      },
      "source": [
        "# Question 4: Numerical Integration"
      ]
    },
    {
      "cell_type": "code",
      "metadata": {
        "id": "1cXTVid8DZWp",
        "colab_type": "code",
        "colab": {
          "base_uri": "https://localhost:8080/",
          "height": 124
        },
        "outputId": "f189ca08-7abc-4424-8e48-13a04a1735dd"
      },
      "source": [
        "def volumePFR(x1,x2,stepSize):\n",
        "  \"\"\"\n",
        "  Inputs:\n",
        "    - x1: float, initial conversion, [-]\n",
        "    - x2: float, initial conversion, [-]\n",
        "    - stepSize: int, number of intervals for Trapezium rule, [-]\n",
        "  Outputs:\n",
        "    - volume: float, volume of Plug Flow Reactor, [m3]\n",
        "\n",
        "  \"\"\"\n",
        "  FA0 = 1\n",
        "  k = 1\n",
        "  CA0 = 1\n",
        "  x = np.linspace(x1,x2,int(stepSize+1)) \n",
        "  y = 1/(k*CA0*(1-x))\n",
        "  yRight, yLeft = y[1:], y[:-1]\n",
        "  dx = (x2 - x1)/stepSize\n",
        "  volume = ((dx/2) * np.sum(yRight + yLeft))*FA0\n",
        "  return volume\n",
        "\n",
        "x1 = float(input('Enter initial conversion:'))\n",
        "x2 = float(input('Enter final conversion:'))\n",
        "stepSize = float(input('Enter number of intervals to apply for Trapezium rule:'))\n",
        "volume = volumePFR(x1,x2,stepSize)\n",
        "print(\"\\nThe volume of the plug flow reactor required is {:0.2f} L.\\n\".format(volume))"
      ],
      "execution_count": null,
      "outputs": [
        {
          "output_type": "stream",
          "text": [
            "Enter initial conversion:0\n",
            "Enter final conversion:0.99\n",
            "Enter number of intervals to apply for Trapezium rule:10000\n",
            "\n",
            "The volume of the plug flow reactor required is 4.61 L.\n",
            "\n"
          ],
          "name": "stdout"
        }
      ]
    },
    {
      "cell_type": "markdown",
      "metadata": {
        "id": "cE3xiOUOSdNO",
        "colab_type": "text"
      },
      "source": [
        "# Question 5: Numerical Differentiation"
      ]
    },
    {
      "cell_type": "code",
      "metadata": {
        "id": "TuD-vDplKch-",
        "colab_type": "code",
        "colab": {
          "base_uri": "https://localhost:8080/",
          "height": 881
        },
        "outputId": "5bf5b703-79b9-44df-a858-efe6f7c18664"
      },
      "source": [
        "def fowardEulerMethod(t0,tf,CAo,intervals):\n",
        "  \"\"\"\n",
        "  Inputs:\n",
        "    - t0: int, initial value of time, [-]\n",
        "    - tf: int, final value of time, [-]\n",
        "    - CAo: float, initial value of concentration, [mol/L]\n",
        "    - intervals: int, time steps of Euler method, [-]\n",
        "  Outputs:\n",
        "    - df: pandas dataframe, dataframe of time vs. concentration of reactant A\n",
        "  \"\"\"\n",
        "  k = 1 # Rate constant\n",
        "  x = np.linspace(t0,tf,int(intervals+1))\n",
        "  conc = np.ones(x.shape)\n",
        "  conc[0] = CAo\n",
        "  for i in range(1,len(x)):\n",
        "    conc[i] = -k*(conc[i-1]**2)*(x[i]-x[i-1]) + conc[i-1]\n",
        "  df = pd.DataFrame()\n",
        "  df['t'] = x\n",
        "  df['CA'] = conc\n",
        "  return df\n",
        "\n",
        "t0 = float(input(\"Enter initial value of time:\"))\n",
        "tf = float(input(\"Enter final value of time:\"))\n",
        "CAo = float(input(\"Enter initial concentration of reactant:\"))\n",
        "intervals = float(input(\"Enter number of time intervals:\"))\n",
        "fowardEulerMethod(t0,tf,CAo,intervals)\n"
      ],
      "execution_count": null,
      "outputs": [
        {
          "output_type": "stream",
          "text": [
            "Enter initial value of time:0\n",
            "Enter final value of time:1\n",
            "Enter initial concentration of reactant:1\n",
            "Enter number of time intervals:25\n"
          ],
          "name": "stdout"
        },
        {
          "output_type": "execute_result",
          "data": {
            "text/html": [
              "<div>\n",
              "<style scoped>\n",
              "    .dataframe tbody tr th:only-of-type {\n",
              "        vertical-align: middle;\n",
              "    }\n",
              "\n",
              "    .dataframe tbody tr th {\n",
              "        vertical-align: top;\n",
              "    }\n",
              "\n",
              "    .dataframe thead th {\n",
              "        text-align: right;\n",
              "    }\n",
              "</style>\n",
              "<table border=\"1\" class=\"dataframe\">\n",
              "  <thead>\n",
              "    <tr style=\"text-align: right;\">\n",
              "      <th></th>\n",
              "      <th>t</th>\n",
              "      <th>CA</th>\n",
              "    </tr>\n",
              "  </thead>\n",
              "  <tbody>\n",
              "    <tr>\n",
              "      <th>0</th>\n",
              "      <td>0.00</td>\n",
              "      <td>1.000000</td>\n",
              "    </tr>\n",
              "    <tr>\n",
              "      <th>1</th>\n",
              "      <td>0.04</td>\n",
              "      <td>0.960000</td>\n",
              "    </tr>\n",
              "    <tr>\n",
              "      <th>2</th>\n",
              "      <td>0.08</td>\n",
              "      <td>0.923136</td>\n",
              "    </tr>\n",
              "    <tr>\n",
              "      <th>3</th>\n",
              "      <td>0.12</td>\n",
              "      <td>0.889049</td>\n",
              "    </tr>\n",
              "    <tr>\n",
              "      <th>4</th>\n",
              "      <td>0.16</td>\n",
              "      <td>0.857432</td>\n",
              "    </tr>\n",
              "    <tr>\n",
              "      <th>5</th>\n",
              "      <td>0.20</td>\n",
              "      <td>0.828025</td>\n",
              "    </tr>\n",
              "    <tr>\n",
              "      <th>6</th>\n",
              "      <td>0.24</td>\n",
              "      <td>0.800600</td>\n",
              "    </tr>\n",
              "    <tr>\n",
              "      <th>7</th>\n",
              "      <td>0.28</td>\n",
              "      <td>0.774961</td>\n",
              "    </tr>\n",
              "    <tr>\n",
              "      <th>8</th>\n",
              "      <td>0.32</td>\n",
              "      <td>0.750939</td>\n",
              "    </tr>\n",
              "    <tr>\n",
              "      <th>9</th>\n",
              "      <td>0.36</td>\n",
              "      <td>0.728382</td>\n",
              "    </tr>\n",
              "    <tr>\n",
              "      <th>10</th>\n",
              "      <td>0.40</td>\n",
              "      <td>0.707161</td>\n",
              "    </tr>\n",
              "    <tr>\n",
              "      <th>11</th>\n",
              "      <td>0.44</td>\n",
              "      <td>0.687158</td>\n",
              "    </tr>\n",
              "    <tr>\n",
              "      <th>12</th>\n",
              "      <td>0.48</td>\n",
              "      <td>0.668270</td>\n",
              "    </tr>\n",
              "    <tr>\n",
              "      <th>13</th>\n",
              "      <td>0.52</td>\n",
              "      <td>0.650407</td>\n",
              "    </tr>\n",
              "    <tr>\n",
              "      <th>14</th>\n",
              "      <td>0.56</td>\n",
              "      <td>0.633486</td>\n",
              "    </tr>\n",
              "    <tr>\n",
              "      <th>15</th>\n",
              "      <td>0.60</td>\n",
              "      <td>0.617434</td>\n",
              "    </tr>\n",
              "    <tr>\n",
              "      <th>16</th>\n",
              "      <td>0.64</td>\n",
              "      <td>0.602185</td>\n",
              "    </tr>\n",
              "    <tr>\n",
              "      <th>17</th>\n",
              "      <td>0.68</td>\n",
              "      <td>0.587680</td>\n",
              "    </tr>\n",
              "    <tr>\n",
              "      <th>18</th>\n",
              "      <td>0.72</td>\n",
              "      <td>0.573865</td>\n",
              "    </tr>\n",
              "    <tr>\n",
              "      <th>19</th>\n",
              "      <td>0.76</td>\n",
              "      <td>0.560692</td>\n",
              "    </tr>\n",
              "    <tr>\n",
              "      <th>20</th>\n",
              "      <td>0.80</td>\n",
              "      <td>0.548117</td>\n",
              "    </tr>\n",
              "    <tr>\n",
              "      <th>21</th>\n",
              "      <td>0.84</td>\n",
              "      <td>0.536100</td>\n",
              "    </tr>\n",
              "    <tr>\n",
              "      <th>22</th>\n",
              "      <td>0.88</td>\n",
              "      <td>0.524604</td>\n",
              "    </tr>\n",
              "    <tr>\n",
              "      <th>23</th>\n",
              "      <td>0.92</td>\n",
              "      <td>0.513595</td>\n",
              "    </tr>\n",
              "    <tr>\n",
              "      <th>24</th>\n",
              "      <td>0.96</td>\n",
              "      <td>0.503044</td>\n",
              "    </tr>\n",
              "    <tr>\n",
              "      <th>25</th>\n",
              "      <td>1.00</td>\n",
              "      <td>0.492922</td>\n",
              "    </tr>\n",
              "  </tbody>\n",
              "</table>\n",
              "</div>"
            ],
            "text/plain": [
              "       t        CA\n",
              "0   0.00  1.000000\n",
              "1   0.04  0.960000\n",
              "2   0.08  0.923136\n",
              "3   0.12  0.889049\n",
              "4   0.16  0.857432\n",
              "5   0.20  0.828025\n",
              "6   0.24  0.800600\n",
              "7   0.28  0.774961\n",
              "8   0.32  0.750939\n",
              "9   0.36  0.728382\n",
              "10  0.40  0.707161\n",
              "11  0.44  0.687158\n",
              "12  0.48  0.668270\n",
              "13  0.52  0.650407\n",
              "14  0.56  0.633486\n",
              "15  0.60  0.617434\n",
              "16  0.64  0.602185\n",
              "17  0.68  0.587680\n",
              "18  0.72  0.573865\n",
              "19  0.76  0.560692\n",
              "20  0.80  0.548117\n",
              "21  0.84  0.536100\n",
              "22  0.88  0.524604\n",
              "23  0.92  0.513595\n",
              "24  0.96  0.503044\n",
              "25  1.00  0.492922"
            ]
          },
          "metadata": {
            "tags": []
          },
          "execution_count": 102
        }
      ]
    }
  ]
}